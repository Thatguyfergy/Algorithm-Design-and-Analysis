{
 "cells": [
  {
   "cell_type": "code",
   "execution_count": 1,
   "metadata": {},
   "outputs": [],
   "source": [
    "from Knapsack_Qn_Solutions import KnapSack_q1, KnapSack_q4a, KnapSack_q4b"
   ]
  },
  {
   "cell_type": "code",
   "execution_count": 2,
   "metadata": {},
   "outputs": [
    {
     "name": "stdout",
     "output_type": "stream",
     "text": [
      "         0  1  2\n",
      "Weights  4  6  8\n",
      "Profits  7  6  9\n",
      "[7, 6, 9], [4, 6, 8], 14, 3\n",
      "Knapsack Recursive results:\n",
      "maxProfit found : 16\n",
      "selected_items_list : [0, 2]\n",
      "number of comparisons: 0\n"
     ]
    }
   ],
   "source": [
    "KnapSack_q1(14)"
   ]
  },
  {
   "cell_type": "code",
   "execution_count": 3,
   "metadata": {},
   "outputs": [
    {
     "name": "stdout",
     "output_type": "stream",
     "text": [
      "         0  1  2\n",
      "Weights  4  6  8\n",
      "Profits  7  6  9\n",
      "Knapsack DP results\n",
      "maxProfit found : 16\n",
      "selected_items_list : [2, 0]\n",
      "number of comparisons: 42\n",
      "DP Table: \n",
      "    0  1   2   3\n",
      "0   0  0   0   0\n",
      "1   0  0   0   0\n",
      "2   0  0   0   0\n",
      "3   0  0   0   0\n",
      "4   0  7   7   7\n",
      "5   0  7   7   7\n",
      "6   0  7   7   7\n",
      "7   0  7   7   7\n",
      "8   0  7   7   9\n",
      "9   0  7   7   9\n",
      "10  0  7  13  13\n",
      "11  0  7  13  13\n",
      "12  0  7  13  16\n",
      "13  0  7  13  16\n",
      "14  0  7  13  16\n"
     ]
    }
   ],
   "source": [
    "KnapSack_q4a(14)"
   ]
  },
  {
   "cell_type": "code",
   "execution_count": 4,
   "metadata": {},
   "outputs": [
    {
     "name": "stdout",
     "output_type": "stream",
     "text": [
      "         0  1  2\n",
      "Weights  5  6  8\n",
      "Profits  7  6  9\n",
      "Knapsack DP results\n",
      "maxProfit found : 16\n",
      "selected_items_list : [2, 0]\n",
      "number of comparisons: 42\n",
      "DP Table: \n",
      "    0  1   2   3\n",
      "0   0  0   0   0\n",
      "1   0  0   0   0\n",
      "2   0  0   0   0\n",
      "3   0  0   0   0\n",
      "4   0  0   0   0\n",
      "5   0  7   7   7\n",
      "6   0  7   7   7\n",
      "7   0  7   7   7\n",
      "8   0  7   7   9\n",
      "9   0  7   7   9\n",
      "10  0  7   7   9\n",
      "11  0  7  13  13\n",
      "12  0  7  13  13\n",
      "13  0  7  13  16\n",
      "14  0  7  13  16\n"
     ]
    }
   ],
   "source": [
    "KnapSack_q4b(14)"
   ]
  },
  {
   "cell_type": "code",
   "execution_count": 5,
   "id": "c1681454",
   "metadata": {},
   "outputs": [],
   "source": [
    "# from Analysis import KnapSack_q1, KnapSack_q4a, KnapSack_q4b\n",
    "# import networkx\n",
    "\n",
    "# import seaborn as sb\n",
    "# import pandas as pd\n",
    "# import matplotlib.pyplot as plt\n",
    "# import numpy as np\n",
    "# import math"
   ]
  },
  {
   "cell_type": "code",
   "execution_count": 6,
   "id": "e36a1a44",
   "metadata": {},
   "outputs": [],
   "source": [
    "# Comparisons, ChosenItems, ChosenItemList = KnapSack_q1(14)\n",
    "# print(f\"Comparisons: {Comparisons}\")\n",
    "# print(f\"ChosenItems: {ChosenItems}\")\n",
    "# print(f\"ChosenItemList: {ChosenItemList}\")"
   ]
  },
  {
   "cell_type": "code",
   "execution_count": 7,
   "id": "7c9ee979",
   "metadata": {},
   "outputs": [],
   "source": [
    "# Comparisons, ChosenItems, ChosenItemList, ProfitList = KnapSack_q4a(14)\n",
    "# print(f\"Comparisons: {Comparisons}\")\n",
    "# print(f\"ChosenItems: {ChosenItems}\")\n",
    "# print(f\"ChosenItemList: {ChosenItemList}\")\n",
    "# print(f\"ProfitList: {ProfitList}\")"
   ]
  },
  {
   "cell_type": "code",
   "execution_count": 8,
   "id": "2caf12a8",
   "metadata": {},
   "outputs": [],
   "source": [
    "# Comparisons, ChosenItems, ChosenItemList, ProfitList = KnapSack_q4b(14)\n",
    "# print(f\"Comparisons: {Comparisons}\")\n",
    "# print(f\"ChosenItems: {ChosenItems}\")\n",
    "# print(f\"ChosenItemList: {ChosenItemList}\")\n",
    "# print(f\"ProfitList: {ProfitList}\")"
   ]
  },
  {
   "cell_type": "code",
   "execution_count": null,
   "id": "d5433b89",
   "metadata": {},
   "outputs": [],
   "source": []
  }
 ],
 "metadata": {
  "kernelspec": {
   "display_name": "Python 3 (ipykernel)",
   "language": "python",
   "name": "python3"
  },
  "language_info": {
   "codemirror_mode": {
    "name": "ipython",
    "version": 3
   },
   "file_extension": ".py",
   "mimetype": "text/x-python",
   "name": "python",
   "nbconvert_exporter": "python",
   "pygments_lexer": "ipython3",
   "version": "3.12.0"
  }
 },
 "nbformat": 4,
 "nbformat_minor": 5
}
